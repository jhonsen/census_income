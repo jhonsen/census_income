{
 "cells": [
  {
   "cell_type": "code",
   "execution_count": 1,
   "id": "46c579cb",
   "metadata": {},
   "outputs": [],
   "source": [
    "import requests\n",
    "import json"
   ]
  },
  {
   "cell_type": "code",
   "execution_count": 3,
   "id": "ee4a7ae4",
   "metadata": {},
   "outputs": [],
   "source": [
    "data = {\n",
    "            \"age\": 34,\n",
    "            \"fnlgt\": 2321,\n",
    "            \"education_num\": 13,\n",
    "            \"hours_per_week\": 40,\n",
    "            \"capital_diff\": 2000,\n",
    "            \"workclass\": \"State-gov\",\n",
    "            \"marital_status\": \"Never-married\",\n",
    "            \"occupation\": \"Adm-clerical\",\n",
    "            \"relationship\": \"Not-in-family\",\n",
    "            \"race\": \"White\",\n",
    "            \"sex\": \"Male\",\n",
    "            \"native_country\": \"United-States\"\n",
    "        }"
   ]
  },
  {
   "cell_type": "code",
   "execution_count": 4,
   "id": "ac39c3d8",
   "metadata": {},
   "outputs": [
    {
     "name": "stdout",
     "output_type": "stream",
     "text": [
      "200\n",
      "{'greeting': 'Hello World!'}\n",
      "200\n",
      "{'prediction': '<=50K', 'probability': 0.13}\n"
     ]
    }
   ],
   "source": [
    "local_url = 'http://0.0.0.0:8000/predict_new_data/'\n",
    "heroku_url = \"https://predict-income-by-census-data.herokuapp.com/predict_new_data/\"\n",
    "\n",
    "url = \"https://predict-income-by-census-data.herokuapp.com/\"\n",
    "response = requests.get(url)\n",
    "\n",
    "print(response.status_code)\n",
    "print(response.json())\n",
    "\n",
    "r = requests.post(heroku_url, auth=('usr', 'pass'), data=json.dumps(data))\n",
    "print(r.status_code)\n",
    "print(r.json())"
   ]
  },
  {
   "cell_type": "code",
   "execution_count": null,
   "id": "94cfa97f",
   "metadata": {},
   "outputs": [],
   "source": []
  }
 ],
 "metadata": {
  "kernelspec": {
   "display_name": "Python 3 (ipykernel)",
   "language": "python",
   "name": "python3"
  },
  "language_info": {
   "codemirror_mode": {
    "name": "ipython",
    "version": 3
   },
   "file_extension": ".py",
   "mimetype": "text/x-python",
   "name": "python",
   "nbconvert_exporter": "python",
   "pygments_lexer": "ipython3",
   "version": "3.8.13"
  }
 },
 "nbformat": 4,
 "nbformat_minor": 5
}
