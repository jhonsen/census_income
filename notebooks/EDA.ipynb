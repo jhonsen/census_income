{
 "cells": [
  {
   "cell_type": "code",
   "execution_count": 341,
   "id": "47b89bc2",
   "metadata": {},
   "outputs": [],
   "source": [
    "import warnings\n",
    "warnings.simplefilter('ignore')"
   ]
  },
  {
   "cell_type": "code",
   "execution_count": 1,
   "id": "0eb3f3c4",
   "metadata": {},
   "outputs": [],
   "source": [
    "import pandas as pd\n",
    "import numpy as np"
   ]
  },
  {
   "cell_type": "code",
   "execution_count": 2,
   "id": "4ec56a7e",
   "metadata": {},
   "outputs": [],
   "source": [
    "from pandas_profiling import ProfileReport"
   ]
  },
  {
   "cell_type": "code",
   "execution_count": 3,
   "id": "49cfb225",
   "metadata": {},
   "outputs": [],
   "source": [
    "df = pd.read_csv('../data/census.csv')"
   ]
  },
  {
   "cell_type": "code",
   "execution_count": 4,
   "id": "f9395d00",
   "metadata": {},
   "outputs": [
    {
     "data": {
      "text/html": [
       "<div>\n",
       "<style scoped>\n",
       "    .dataframe tbody tr th:only-of-type {\n",
       "        vertical-align: middle;\n",
       "    }\n",
       "\n",
       "    .dataframe tbody tr th {\n",
       "        vertical-align: top;\n",
       "    }\n",
       "\n",
       "    .dataframe thead th {\n",
       "        text-align: right;\n",
       "    }\n",
       "</style>\n",
       "<table border=\"1\" class=\"dataframe\">\n",
       "  <thead>\n",
       "    <tr style=\"text-align: right;\">\n",
       "      <th></th>\n",
       "      <th>age</th>\n",
       "      <th>workclass</th>\n",
       "      <th>fnlgt</th>\n",
       "      <th>education</th>\n",
       "      <th>education-num</th>\n",
       "      <th>marital-status</th>\n",
       "      <th>occupation</th>\n",
       "      <th>relationship</th>\n",
       "      <th>race</th>\n",
       "      <th>sex</th>\n",
       "      <th>capital-gain</th>\n",
       "      <th>capital-loss</th>\n",
       "      <th>hours-per-week</th>\n",
       "      <th>native-country</th>\n",
       "      <th>salary</th>\n",
       "    </tr>\n",
       "  </thead>\n",
       "  <tbody>\n",
       "    <tr>\n",
       "      <th>0</th>\n",
       "      <td>39</td>\n",
       "      <td>State-gov</td>\n",
       "      <td>77516</td>\n",
       "      <td>Bachelors</td>\n",
       "      <td>13</td>\n",
       "      <td>Never-married</td>\n",
       "      <td>Adm-clerical</td>\n",
       "      <td>Not-in-family</td>\n",
       "      <td>White</td>\n",
       "      <td>Male</td>\n",
       "      <td>2174</td>\n",
       "      <td>0</td>\n",
       "      <td>40</td>\n",
       "      <td>United-States</td>\n",
       "      <td>&lt;=50K</td>\n",
       "    </tr>\n",
       "  </tbody>\n",
       "</table>\n",
       "</div>"
      ],
      "text/plain": [
       "   age   workclass   fnlgt   education   education-num  marital-status  \\\n",
       "0   39   State-gov   77516   Bachelors              13   Never-married   \n",
       "\n",
       "      occupation    relationship    race    sex   capital-gain   capital-loss  \\\n",
       "0   Adm-clerical   Not-in-family   White   Male           2174              0   \n",
       "\n",
       "    hours-per-week  native-country  salary  \n",
       "0               40   United-States   <=50K  "
      ]
     },
     "execution_count": 4,
     "metadata": {},
     "output_type": "execute_result"
    }
   ],
   "source": [
    "df.head(1)"
   ]
  },
  {
   "cell_type": "code",
   "execution_count": 5,
   "id": "3a7bbcea",
   "metadata": {},
   "outputs": [
    {
     "data": {
      "text/plain": [
       "['age',\n",
       " 'workclass',\n",
       " 'fnlgt',\n",
       " 'education',\n",
       " 'education_num',\n",
       " 'marital_status',\n",
       " 'occupation',\n",
       " 'relationship',\n",
       " 'race',\n",
       " 'sex',\n",
       " 'capital_gain',\n",
       " 'capital_loss',\n",
       " 'hours_per_week',\n",
       " 'native_country',\n",
       " 'salary']"
      ]
     },
     "execution_count": 5,
     "metadata": {},
     "output_type": "execute_result"
    }
   ],
   "source": [
    "colnames = [c.replace('-','_').strip() for c in df.columns]\n",
    "colnames"
   ]
  },
  {
   "cell_type": "code",
   "execution_count": 6,
   "id": "6be7bc00",
   "metadata": {},
   "outputs": [],
   "source": [
    "# Fix column names\n",
    "df.columns = colnames"
   ]
  },
  {
   "cell_type": "code",
   "execution_count": 7,
   "id": "9966b166",
   "metadata": {},
   "outputs": [],
   "source": [
    "profile = ProfileReport(df, title=\"Pandas Profiling Report\")"
   ]
  },
  {
   "cell_type": "code",
   "execution_count": 8,
   "id": "26038d79",
   "metadata": {},
   "outputs": [
    {
     "data": {
      "application/vnd.jupyter.widget-view+json": {
       "model_id": "a668abea70334ad6bc2aaf82a4e49157",
       "version_major": 2,
       "version_minor": 0
      },
      "text/plain": [
       "Summarize dataset:   0%|          | 0/5 [00:00<?, ?it/s]"
      ]
     },
     "metadata": {},
     "output_type": "display_data"
    },
    {
     "data": {
      "application/vnd.jupyter.widget-view+json": {
       "model_id": "8dba208f0ff641c29036d0a855152d3f",
       "version_major": 2,
       "version_minor": 0
      },
      "text/plain": [
       "Generate report structure:   0%|          | 0/1 [00:00<?, ?it/s]"
      ]
     },
     "metadata": {},
     "output_type": "display_data"
    },
    {
     "data": {
      "application/vnd.jupyter.widget-view+json": {
       "model_id": "",
       "version_major": 2,
       "version_minor": 0
      },
      "text/plain": [
       "Render widgets:   0%|          | 0/1 [00:00<?, ?it/s]"
      ]
     },
     "metadata": {},
     "output_type": "display_data"
    },
    {
     "data": {
      "application/vnd.jupyter.widget-view+json": {
       "model_id": "0b64121f235f48089f725e2bf5fe36af",
       "version_major": 2,
       "version_minor": 0
      },
      "text/plain": [
       "VBox(children=(Tab(children=(Tab(children=(GridBox(children=(VBox(children=(GridspecLayout(children=(HTML(valu…"
      ]
     },
     "metadata": {},
     "output_type": "display_data"
    }
   ],
   "source": [
    "profile.to_widgets()"
   ]
  },
  {
   "cell_type": "code",
   "execution_count": 9,
   "id": "9b283735",
   "metadata": {},
   "outputs": [
    {
     "name": "stdout",
     "output_type": "stream",
     "text": [
      "<class 'pandas.core.frame.DataFrame'>\n",
      "RangeIndex: 32561 entries, 0 to 32560\n",
      "Data columns (total 15 columns):\n",
      " #   Column          Non-Null Count  Dtype \n",
      "---  ------          --------------  ----- \n",
      " 0   age             32561 non-null  int64 \n",
      " 1   workclass       32561 non-null  object\n",
      " 2   fnlgt           32561 non-null  int64 \n",
      " 3   education       32561 non-null  object\n",
      " 4   education_num   32561 non-null  int64 \n",
      " 5   marital_status  32561 non-null  object\n",
      " 6   occupation      32561 non-null  object\n",
      " 7   relationship    32561 non-null  object\n",
      " 8   race            32561 non-null  object\n",
      " 9   sex             32561 non-null  object\n",
      " 10  capital_gain    32561 non-null  int64 \n",
      " 11  capital_loss    32561 non-null  int64 \n",
      " 12  hours_per_week  32561 non-null  int64 \n",
      " 13  native_country  32561 non-null  object\n",
      " 14  salary          32561 non-null  object\n",
      "dtypes: int64(6), object(9)\n",
      "memory usage: 3.7+ MB\n"
     ]
    }
   ],
   "source": [
    "df.info()"
   ]
  },
  {
   "cell_type": "code",
   "execution_count": 10,
   "id": "3543bd28",
   "metadata": {},
   "outputs": [
    {
     "data": {
      "text/html": [
       "<div>\n",
       "<style scoped>\n",
       "    .dataframe tbody tr th:only-of-type {\n",
       "        vertical-align: middle;\n",
       "    }\n",
       "\n",
       "    .dataframe tbody tr th {\n",
       "        vertical-align: top;\n",
       "    }\n",
       "\n",
       "    .dataframe thead th {\n",
       "        text-align: right;\n",
       "    }\n",
       "</style>\n",
       "<table border=\"1\" class=\"dataframe\">\n",
       "  <thead>\n",
       "    <tr style=\"text-align: right;\">\n",
       "      <th></th>\n",
       "      <th>age</th>\n",
       "      <th>workclass</th>\n",
       "      <th>fnlgt</th>\n",
       "      <th>education</th>\n",
       "      <th>education_num</th>\n",
       "      <th>marital_status</th>\n",
       "      <th>occupation</th>\n",
       "      <th>relationship</th>\n",
       "      <th>race</th>\n",
       "      <th>sex</th>\n",
       "      <th>capital_gain</th>\n",
       "      <th>capital_loss</th>\n",
       "      <th>hours_per_week</th>\n",
       "      <th>native_country</th>\n",
       "      <th>salary</th>\n",
       "    </tr>\n",
       "  </thead>\n",
       "  <tbody>\n",
       "    <tr>\n",
       "      <th>0</th>\n",
       "      <td>39</td>\n",
       "      <td>State-gov</td>\n",
       "      <td>77516</td>\n",
       "      <td>Bachelors</td>\n",
       "      <td>13</td>\n",
       "      <td>Never-married</td>\n",
       "      <td>Adm-clerical</td>\n",
       "      <td>Not-in-family</td>\n",
       "      <td>White</td>\n",
       "      <td>Male</td>\n",
       "      <td>2174</td>\n",
       "      <td>0</td>\n",
       "      <td>40</td>\n",
       "      <td>United-States</td>\n",
       "      <td>&lt;=50K</td>\n",
       "    </tr>\n",
       "  </tbody>\n",
       "</table>\n",
       "</div>"
      ],
      "text/plain": [
       "   age   workclass  fnlgt   education  education_num  marital_status  \\\n",
       "0   39   State-gov  77516   Bachelors             13   Never-married   \n",
       "\n",
       "      occupation    relationship    race    sex  capital_gain  capital_loss  \\\n",
       "0   Adm-clerical   Not-in-family   White   Male          2174             0   \n",
       "\n",
       "   hours_per_week  native_country  salary  \n",
       "0              40   United-States   <=50K  "
      ]
     },
     "execution_count": 10,
     "metadata": {},
     "output_type": "execute_result"
    }
   ],
   "source": [
    "df.head(1)"
   ]
  },
  {
   "cell_type": "code",
   "execution_count": 11,
   "id": "78ed1c1b",
   "metadata": {},
   "outputs": [],
   "source": [
    "categorical_features = [\n",
    "    'workclass',\n",
    "    'education',\n",
    "    'marital_status',\n",
    "    'occupation',\n",
    "    'relationship',\n",
    "    'race',\n",
    "    'sex',\n",
    "    'native_country',\n",
    "    'salary'\n",
    "]\n",
    "numerical_features = ['age','fnlgt','education_num','capital_gain','capital_loss','hours_per_week']"
   ]
  },
  {
   "cell_type": "code",
   "execution_count": 65,
   "id": "e17a7ba7",
   "metadata": {
    "scrolled": false
   },
   "outputs": [
    {
     "name": "stdout",
     "output_type": "stream",
     "text": [
      "workclass 8\n"
     ]
    },
    {
     "data": {
      "text/html": [
       "<div>\n",
       "<style scoped>\n",
       "    .dataframe tbody tr th:only-of-type {\n",
       "        vertical-align: middle;\n",
       "    }\n",
       "\n",
       "    .dataframe tbody tr th {\n",
       "        vertical-align: top;\n",
       "    }\n",
       "\n",
       "    .dataframe thead th {\n",
       "        text-align: right;\n",
       "    }\n",
       "</style>\n",
       "<table border=\"1\" class=\"dataframe\">\n",
       "  <thead>\n",
       "    <tr style=\"text-align: right;\">\n",
       "      <th></th>\n",
       "      <th>Private</th>\n",
       "      <th>Self-emp-not-inc</th>\n",
       "      <th>Local-gov</th>\n",
       "      <th>State-gov</th>\n",
       "      <th>Self-emp-inc</th>\n",
       "      <th>Federal-gov</th>\n",
       "      <th>Without-pay</th>\n",
       "      <th>Never-worked</th>\n",
       "    </tr>\n",
       "  </thead>\n",
       "  <tbody>\n",
       "    <tr>\n",
       "      <th>cnt</th>\n",
       "      <td>24393</td>\n",
       "      <td>2495</td>\n",
       "      <td>2084</td>\n",
       "      <td>1293</td>\n",
       "      <td>1064</td>\n",
       "      <td>958</td>\n",
       "      <td>14</td>\n",
       "      <td>7</td>\n",
       "    </tr>\n",
       "  </tbody>\n",
       "</table>\n",
       "</div>"
      ],
      "text/plain": [
       "     Private  Self-emp-not-inc  Local-gov  State-gov  Self-emp-inc  \\\n",
       "cnt    24393              2495       2084       1293          1064   \n",
       "\n",
       "     Federal-gov  Without-pay  Never-worked  \n",
       "cnt          958           14             7  "
      ]
     },
     "metadata": {},
     "output_type": "display_data"
    },
    {
     "name": "stdout",
     "output_type": "stream",
     "text": [
      "education 16\n"
     ]
    },
    {
     "data": {
      "text/html": [
       "<div>\n",
       "<style scoped>\n",
       "    .dataframe tbody tr th:only-of-type {\n",
       "        vertical-align: middle;\n",
       "    }\n",
       "\n",
       "    .dataframe tbody tr th {\n",
       "        vertical-align: top;\n",
       "    }\n",
       "\n",
       "    .dataframe thead th {\n",
       "        text-align: right;\n",
       "    }\n",
       "</style>\n",
       "<table border=\"1\" class=\"dataframe\">\n",
       "  <thead>\n",
       "    <tr style=\"text-align: right;\">\n",
       "      <th></th>\n",
       "      <th>HS-grad</th>\n",
       "      <th>Some-college</th>\n",
       "      <th>Bachelors</th>\n",
       "      <th>Masters</th>\n",
       "      <th>Assoc-voc</th>\n",
       "      <th>11th</th>\n",
       "      <th>Assoc-acdm</th>\n",
       "      <th>10th</th>\n",
       "      <th>7th-8th</th>\n",
       "      <th>Prof-school</th>\n",
       "      <th>9th</th>\n",
       "      <th>12th</th>\n",
       "      <th>Doctorate</th>\n",
       "      <th>5th-6th</th>\n",
       "      <th>1st-4th</th>\n",
       "      <th>Preschool</th>\n",
       "    </tr>\n",
       "  </thead>\n",
       "  <tbody>\n",
       "    <tr>\n",
       "      <th>cnt</th>\n",
       "      <td>10468</td>\n",
       "      <td>7265</td>\n",
       "      <td>5292</td>\n",
       "      <td>1689</td>\n",
       "      <td>1378</td>\n",
       "      <td>1175</td>\n",
       "      <td>1064</td>\n",
       "      <td>929</td>\n",
       "      <td>646</td>\n",
       "      <td>515</td>\n",
       "      <td>513</td>\n",
       "      <td>433</td>\n",
       "      <td>390</td>\n",
       "      <td>333</td>\n",
       "      <td>168</td>\n",
       "      <td>50</td>\n",
       "    </tr>\n",
       "  </tbody>\n",
       "</table>\n",
       "</div>"
      ],
      "text/plain": [
       "     HS-grad  Some-college  Bachelors  Masters  Assoc-voc  11th  Assoc-acdm  \\\n",
       "cnt    10468          7265       5292     1689       1378  1175        1064   \n",
       "\n",
       "     10th  7th-8th  Prof-school  9th  12th  Doctorate  5th-6th  1st-4th  \\\n",
       "cnt   929      646          515  513   433        390      333      168   \n",
       "\n",
       "     Preschool  \n",
       "cnt         50  "
      ]
     },
     "metadata": {},
     "output_type": "display_data"
    },
    {
     "name": "stdout",
     "output_type": "stream",
     "text": [
      "marital_status 7\n"
     ]
    },
    {
     "data": {
      "text/html": [
       "<div>\n",
       "<style scoped>\n",
       "    .dataframe tbody tr th:only-of-type {\n",
       "        vertical-align: middle;\n",
       "    }\n",
       "\n",
       "    .dataframe tbody tr th {\n",
       "        vertical-align: top;\n",
       "    }\n",
       "\n",
       "    .dataframe thead th {\n",
       "        text-align: right;\n",
       "    }\n",
       "</style>\n",
       "<table border=\"1\" class=\"dataframe\">\n",
       "  <thead>\n",
       "    <tr style=\"text-align: right;\">\n",
       "      <th></th>\n",
       "      <th>Married-civ-spouse</th>\n",
       "      <th>Never-married</th>\n",
       "      <th>Divorced</th>\n",
       "      <th>Separated</th>\n",
       "      <th>Widowed</th>\n",
       "      <th>Married-spouse-absent</th>\n",
       "      <th>Married-AF-spouse</th>\n",
       "    </tr>\n",
       "  </thead>\n",
       "  <tbody>\n",
       "    <tr>\n",
       "      <th>cnt</th>\n",
       "      <td>14804</td>\n",
       "      <td>10651</td>\n",
       "      <td>4410</td>\n",
       "      <td>1019</td>\n",
       "      <td>987</td>\n",
       "      <td>414</td>\n",
       "      <td>23</td>\n",
       "    </tr>\n",
       "  </tbody>\n",
       "</table>\n",
       "</div>"
      ],
      "text/plain": [
       "     Married-civ-spouse  Never-married  Divorced  Separated  Widowed  \\\n",
       "cnt               14804          10651      4410       1019      987   \n",
       "\n",
       "     Married-spouse-absent  Married-AF-spouse  \n",
       "cnt                    414                 23  "
      ]
     },
     "metadata": {},
     "output_type": "display_data"
    },
    {
     "name": "stdout",
     "output_type": "stream",
     "text": [
      "occupation 14\n"
     ]
    },
    {
     "data": {
      "text/html": [
       "<div>\n",
       "<style scoped>\n",
       "    .dataframe tbody tr th:only-of-type {\n",
       "        vertical-align: middle;\n",
       "    }\n",
       "\n",
       "    .dataframe tbody tr th {\n",
       "        vertical-align: top;\n",
       "    }\n",
       "\n",
       "    .dataframe thead th {\n",
       "        text-align: right;\n",
       "    }\n",
       "</style>\n",
       "<table border=\"1\" class=\"dataframe\">\n",
       "  <thead>\n",
       "    <tr style=\"text-align: right;\">\n",
       "      <th></th>\n",
       "      <th>Prof-specialty</th>\n",
       "      <th>Craft-repair</th>\n",
       "      <th>Exec-managerial</th>\n",
       "      <th>Adm-clerical</th>\n",
       "      <th>Sales</th>\n",
       "      <th>Other-service</th>\n",
       "      <th>Machine-op-inspct</th>\n",
       "      <th>Transport-moving</th>\n",
       "      <th>Handlers-cleaners</th>\n",
       "      <th>Farming-fishing</th>\n",
       "      <th>Tech-support</th>\n",
       "      <th>Protective-serv</th>\n",
       "      <th>Priv-house-serv</th>\n",
       "      <th>Armed-Forces</th>\n",
       "    </tr>\n",
       "  </thead>\n",
       "  <tbody>\n",
       "    <tr>\n",
       "      <th>cnt</th>\n",
       "      <td>5877</td>\n",
       "      <td>4088</td>\n",
       "      <td>3998</td>\n",
       "      <td>3760</td>\n",
       "      <td>3614</td>\n",
       "      <td>3291</td>\n",
       "      <td>2001</td>\n",
       "      <td>1596</td>\n",
       "      <td>1369</td>\n",
       "      <td>985</td>\n",
       "      <td>925</td>\n",
       "      <td>647</td>\n",
       "      <td>148</td>\n",
       "      <td>9</td>\n",
       "    </tr>\n",
       "  </tbody>\n",
       "</table>\n",
       "</div>"
      ],
      "text/plain": [
       "     Prof-specialty  Craft-repair  Exec-managerial  Adm-clerical  Sales  \\\n",
       "cnt            5877          4088             3998          3760   3614   \n",
       "\n",
       "     Other-service  Machine-op-inspct  Transport-moving  Handlers-cleaners  \\\n",
       "cnt           3291               2001              1596               1369   \n",
       "\n",
       "     Farming-fishing  Tech-support  Protective-serv  Priv-house-serv  \\\n",
       "cnt              985           925              647              148   \n",
       "\n",
       "     Armed-Forces  \n",
       "cnt             9  "
      ]
     },
     "metadata": {},
     "output_type": "display_data"
    },
    {
     "name": "stdout",
     "output_type": "stream",
     "text": [
      "relationship 6\n"
     ]
    },
    {
     "data": {
      "text/html": [
       "<div>\n",
       "<style scoped>\n",
       "    .dataframe tbody tr th:only-of-type {\n",
       "        vertical-align: middle;\n",
       "    }\n",
       "\n",
       "    .dataframe tbody tr th {\n",
       "        vertical-align: top;\n",
       "    }\n",
       "\n",
       "    .dataframe thead th {\n",
       "        text-align: right;\n",
       "    }\n",
       "</style>\n",
       "<table border=\"1\" class=\"dataframe\">\n",
       "  <thead>\n",
       "    <tr style=\"text-align: right;\">\n",
       "      <th></th>\n",
       "      <th>Husband</th>\n",
       "      <th>Not-in-family</th>\n",
       "      <th>Own-child</th>\n",
       "      <th>Unmarried</th>\n",
       "      <th>Wife</th>\n",
       "      <th>Other-relative</th>\n",
       "    </tr>\n",
       "  </thead>\n",
       "  <tbody>\n",
       "    <tr>\n",
       "      <th>cnt</th>\n",
       "      <td>13039</td>\n",
       "      <td>8251</td>\n",
       "      <td>5062</td>\n",
       "      <td>3427</td>\n",
       "      <td>1551</td>\n",
       "      <td>978</td>\n",
       "    </tr>\n",
       "  </tbody>\n",
       "</table>\n",
       "</div>"
      ],
      "text/plain": [
       "     Husband  Not-in-family  Own-child  Unmarried  Wife  Other-relative\n",
       "cnt    13039           8251       5062       3427  1551             978"
      ]
     },
     "metadata": {},
     "output_type": "display_data"
    },
    {
     "name": "stdout",
     "output_type": "stream",
     "text": [
      "race 5\n"
     ]
    },
    {
     "data": {
      "text/html": [
       "<div>\n",
       "<style scoped>\n",
       "    .dataframe tbody tr th:only-of-type {\n",
       "        vertical-align: middle;\n",
       "    }\n",
       "\n",
       "    .dataframe tbody tr th {\n",
       "        vertical-align: top;\n",
       "    }\n",
       "\n",
       "    .dataframe thead th {\n",
       "        text-align: right;\n",
       "    }\n",
       "</style>\n",
       "<table border=\"1\" class=\"dataframe\">\n",
       "  <thead>\n",
       "    <tr style=\"text-align: right;\">\n",
       "      <th></th>\n",
       "      <th>White</th>\n",
       "      <th>Black</th>\n",
       "      <th>Asian-Pac-Islander</th>\n",
       "      <th>Amer-Indian-Eskimo</th>\n",
       "      <th>Other</th>\n",
       "    </tr>\n",
       "  </thead>\n",
       "  <tbody>\n",
       "    <tr>\n",
       "      <th>cnt</th>\n",
       "      <td>27590</td>\n",
       "      <td>3111</td>\n",
       "      <td>1028</td>\n",
       "      <td>310</td>\n",
       "      <td>269</td>\n",
       "    </tr>\n",
       "  </tbody>\n",
       "</table>\n",
       "</div>"
      ],
      "text/plain": [
       "     White  Black  Asian-Pac-Islander  Amer-Indian-Eskimo  Other\n",
       "cnt  27590   3111                1028                 310    269"
      ]
     },
     "metadata": {},
     "output_type": "display_data"
    },
    {
     "name": "stdout",
     "output_type": "stream",
     "text": [
      "sex 2\n"
     ]
    },
    {
     "data": {
      "text/html": [
       "<div>\n",
       "<style scoped>\n",
       "    .dataframe tbody tr th:only-of-type {\n",
       "        vertical-align: middle;\n",
       "    }\n",
       "\n",
       "    .dataframe tbody tr th {\n",
       "        vertical-align: top;\n",
       "    }\n",
       "\n",
       "    .dataframe thead th {\n",
       "        text-align: right;\n",
       "    }\n",
       "</style>\n",
       "<table border=\"1\" class=\"dataframe\">\n",
       "  <thead>\n",
       "    <tr style=\"text-align: right;\">\n",
       "      <th></th>\n",
       "      <th>Male</th>\n",
       "      <th>Female</th>\n",
       "    </tr>\n",
       "  </thead>\n",
       "  <tbody>\n",
       "    <tr>\n",
       "      <th>cnt</th>\n",
       "      <td>21580</td>\n",
       "      <td>10728</td>\n",
       "    </tr>\n",
       "  </tbody>\n",
       "</table>\n",
       "</div>"
      ],
      "text/plain": [
       "      Male  Female\n",
       "cnt  21580   10728"
      ]
     },
     "metadata": {},
     "output_type": "display_data"
    },
    {
     "name": "stdout",
     "output_type": "stream",
     "text": [
      "native_country 41\n"
     ]
    },
    {
     "data": {
      "text/html": [
       "<div>\n",
       "<style scoped>\n",
       "    .dataframe tbody tr th:only-of-type {\n",
       "        vertical-align: middle;\n",
       "    }\n",
       "\n",
       "    .dataframe tbody tr th {\n",
       "        vertical-align: top;\n",
       "    }\n",
       "\n",
       "    .dataframe thead th {\n",
       "        text-align: right;\n",
       "    }\n",
       "</style>\n",
       "<table border=\"1\" class=\"dataframe\">\n",
       "  <thead>\n",
       "    <tr style=\"text-align: right;\">\n",
       "      <th></th>\n",
       "      <th>United-States</th>\n",
       "      <th>Mexico</th>\n",
       "      <th>Philippines</th>\n",
       "      <th>Germany</th>\n",
       "      <th>Canada</th>\n",
       "      <th>Puerto-Rico</th>\n",
       "      <th>El-Salvador</th>\n",
       "      <th>India</th>\n",
       "      <th>Cuba</th>\n",
       "      <th>England</th>\n",
       "      <th>...</th>\n",
       "      <th>Cambodia</th>\n",
       "      <th>Trinadad&amp;Tobago</th>\n",
       "      <th>Laos</th>\n",
       "      <th>Thailand</th>\n",
       "      <th>Yugoslavia</th>\n",
       "      <th>Outlying-US(Guam-USVI-etc)</th>\n",
       "      <th>Honduras</th>\n",
       "      <th>Hungary</th>\n",
       "      <th>Scotland</th>\n",
       "      <th>Holand-Netherlands</th>\n",
       "    </tr>\n",
       "  </thead>\n",
       "  <tbody>\n",
       "    <tr>\n",
       "      <th>cnt</th>\n",
       "      <td>29518</td>\n",
       "      <td>641</td>\n",
       "      <td>196</td>\n",
       "      <td>136</td>\n",
       "      <td>120</td>\n",
       "      <td>114</td>\n",
       "      <td>105</td>\n",
       "      <td>97</td>\n",
       "      <td>95</td>\n",
       "      <td>89</td>\n",
       "      <td>...</td>\n",
       "      <td>19</td>\n",
       "      <td>19</td>\n",
       "      <td>18</td>\n",
       "      <td>18</td>\n",
       "      <td>16</td>\n",
       "      <td>14</td>\n",
       "      <td>13</td>\n",
       "      <td>13</td>\n",
       "      <td>12</td>\n",
       "      <td>1</td>\n",
       "    </tr>\n",
       "  </tbody>\n",
       "</table>\n",
       "<p>1 rows × 41 columns</p>\n",
       "</div>"
      ],
      "text/plain": [
       "     United-States  Mexico  Philippines  Germany  Canada  Puerto-Rico  \\\n",
       "cnt          29518     641          196      136     120          114   \n",
       "\n",
       "     El-Salvador  India  Cuba  England  ...  Cambodia  Trinadad&Tobago  Laos  \\\n",
       "cnt          105     97    95       89  ...        19               19    18   \n",
       "\n",
       "     Thailand  Yugoslavia  Outlying-US(Guam-USVI-etc)  Honduras  Hungary  \\\n",
       "cnt        18          16                          14        13       13   \n",
       "\n",
       "     Scotland  Holand-Netherlands  \n",
       "cnt        12                   1  \n",
       "\n",
       "[1 rows x 41 columns]"
      ]
     },
     "metadata": {},
     "output_type": "display_data"
    },
    {
     "name": "stdout",
     "output_type": "stream",
     "text": [
      "salary 2\n"
     ]
    },
    {
     "data": {
      "text/html": [
       "<div>\n",
       "<style scoped>\n",
       "    .dataframe tbody tr th:only-of-type {\n",
       "        vertical-align: middle;\n",
       "    }\n",
       "\n",
       "    .dataframe tbody tr th {\n",
       "        vertical-align: top;\n",
       "    }\n",
       "\n",
       "    .dataframe thead th {\n",
       "        text-align: right;\n",
       "    }\n",
       "</style>\n",
       "<table border=\"1\" class=\"dataframe\">\n",
       "  <thead>\n",
       "    <tr style=\"text-align: right;\">\n",
       "      <th></th>\n",
       "      <th>&lt;=50K</th>\n",
       "      <th>&gt;50K</th>\n",
       "    </tr>\n",
       "  </thead>\n",
       "  <tbody>\n",
       "    <tr>\n",
       "      <th>cnt</th>\n",
       "      <td>24712</td>\n",
       "      <td>7596</td>\n",
       "    </tr>\n",
       "  </tbody>\n",
       "</table>\n",
       "</div>"
      ],
      "text/plain": [
       "     <=50K  >50K\n",
       "cnt  24712  7596"
      ]
     },
     "metadata": {},
     "output_type": "display_data"
    }
   ],
   "source": [
    "for cat in categorical_features:\n",
    "    print(cat, df[cat].nunique())\n",
    "    display(df[cat].value_counts(dropna=False).to_frame('cnt').T)\n",
    "    \n",
    "# need to impute:\n",
    "#   workclass \"?\"\n",
    "#   occupation \"?\"\n",
    "#   native_country \"?\""
   ]
  },
  {
   "cell_type": "code",
   "execution_count": 13,
   "id": "024957e0",
   "metadata": {},
   "outputs": [],
   "source": [
    "# display(df.native_country.value_counts().to_frame('cnt'))"
   ]
  },
  {
   "cell_type": "code",
   "execution_count": 14,
   "id": "a6148d3a",
   "metadata": {},
   "outputs": [
    {
     "data": {
      "text/html": [
       "<div>\n",
       "<style scoped>\n",
       "    .dataframe tbody tr th:only-of-type {\n",
       "        vertical-align: middle;\n",
       "    }\n",
       "\n",
       "    .dataframe tbody tr th {\n",
       "        vertical-align: top;\n",
       "    }\n",
       "\n",
       "    .dataframe thead th {\n",
       "        text-align: right;\n",
       "    }\n",
       "</style>\n",
       "<table border=\"1\" class=\"dataframe\">\n",
       "  <thead>\n",
       "    <tr style=\"text-align: right;\">\n",
       "      <th></th>\n",
       "      <th>Percentage</th>\n",
       "    </tr>\n",
       "  </thead>\n",
       "  <tbody>\n",
       "    <tr>\n",
       "      <th>&lt;=50K</th>\n",
       "      <td>0.75919</td>\n",
       "    </tr>\n",
       "    <tr>\n",
       "      <th>&gt;50K</th>\n",
       "      <td>0.24081</td>\n",
       "    </tr>\n",
       "  </tbody>\n",
       "</table>\n",
       "</div>"
      ],
      "text/plain": [
       "        Percentage\n",
       " <=50K     0.75919\n",
       " >50K      0.24081"
      ]
     },
     "execution_count": 14,
     "metadata": {},
     "output_type": "execute_result"
    }
   ],
   "source": [
    "target = 'salary'\n",
    "df[target].value_counts(normalize=True).to_frame('Percentage')\n",
    "# imbalance class may need to use resampling technique"
   ]
  },
  {
   "cell_type": "code",
   "execution_count": 15,
   "id": "e3e7f3dc",
   "metadata": {},
   "outputs": [
    {
     "data": {
      "text/plain": [
       "array([' State-gov', ' Self-emp-not-inc', ' Private', ' Federal-gov',\n",
       "       ' Local-gov', ' ?', ' Self-emp-inc', ' Without-pay',\n",
       "       ' Never-worked'], dtype=object)"
      ]
     },
     "execution_count": 15,
     "metadata": {},
     "output_type": "execute_result"
    }
   ],
   "source": [
    "#   workclass \"?\"\n",
    "#   occupation \"?\"\n",
    "#   native_country \"?\"\n",
    "\n",
    "df.workclass.unique() # it's got spaces to clean"
   ]
  },
  {
   "cell_type": "code",
   "execution_count": 16,
   "id": "3735fb2f",
   "metadata": {},
   "outputs": [],
   "source": [
    "for cat in categorical_features:\n",
    "    df[cat] = df[cat].apply(lambda s: s.strip())"
   ]
  },
  {
   "cell_type": "code",
   "execution_count": 17,
   "id": "2ae7ab52",
   "metadata": {},
   "outputs": [],
   "source": [
    "# replace with nans\n",
    "for cat in categorical_features:\n",
    "    df.loc[df[cat]==\"?\", cat] = np.nan"
   ]
  },
  {
   "cell_type": "code",
   "execution_count": 18,
   "id": "55c0bd15",
   "metadata": {},
   "outputs": [],
   "source": [
    "# replace with most frequent\n",
    "for col in categorical_features:\n",
    "    df[col].fillna(df[col].mode().values[0], inplace=True)"
   ]
  },
  {
   "cell_type": "code",
   "execution_count": 21,
   "id": "0a6a9991",
   "metadata": {},
   "outputs": [
    {
     "name": "stdout",
     "output_type": "stream",
     "text": [
      "age 0\n",
      "fnlgt 0\n",
      "education_num 0\n",
      "capital_gain 0\n",
      "capital_loss 0\n",
      "hours_per_week 0\n"
     ]
    }
   ],
   "source": [
    "for cat in numerical_features:\n",
    "    print(cat, df[df[cat].isna()].shape[0])"
   ]
  },
  {
   "cell_type": "code",
   "execution_count": 22,
   "id": "33a15b24",
   "metadata": {},
   "outputs": [],
   "source": [
    "import matplotlib.pyplot as plt\n",
    "%matplotlib inline"
   ]
  },
  {
   "cell_type": "code",
   "execution_count": 23,
   "id": "4e59cb2c",
   "metadata": {},
   "outputs": [
    {
     "data": {
      "image/png": "[encoded data removed]",
      "text/plain": [
       "<Figure size 900x600 with 6 Axes>"
      ]
     },
     "metadata": {},
     "output_type": "display_data"
    }
   ],
   "source": [
    "fig, axes = plt.subplots(2,3, figsize=(9,6))\n",
    "for i,cat in enumerate(numerical_features):\n",
    "    axes.flatten()[i].hist(df[cat], density=True)\n",
    "    axes.flatten()[i].set_title(cat)\n",
    "plt.tight_layout()"
   ]
  },
  {
   "cell_type": "code",
   "execution_count": 26,
   "id": "dcbf429b",
   "metadata": {},
   "outputs": [
    {
     "name": "stdout",
     "output_type": "stream",
     "text": [
      "outlier size: 0.78\n"
     ]
    }
   ],
   "source": [
    "# obvious outlier in capital gain\n",
    "print('outlier size: {0:.2f}'.format(df[df['capital_gain']>20000].shape[0]/df.shape[0]*100))"
   ]
  },
  {
   "cell_type": "code",
   "execution_count": 25,
   "id": "924ae5d5",
   "metadata": {},
   "outputs": [
    {
     "name": "stdout",
     "output_type": "stream",
     "text": [
      "outlier size: 4.55\n"
     ]
    }
   ],
   "source": [
    "# obvious outlier in capital loss\n",
    "print('outlier size: {0:.2f}'.format(df[df['capital_loss']>1000].shape[0]/df.shape[0]*100))\n",
    "\n",
    "# /Note: dist very similar to cpaital gain. May not need to use as features"
   ]
  },
  {
   "cell_type": "code",
   "execution_count": 27,
   "id": "7154c67c",
   "metadata": {},
   "outputs": [
    {
     "name": "stdout",
     "output_type": "stream",
     "text": [
      "before: 32561\n",
      "after : 32308\n"
     ]
    }
   ],
   "source": [
    "# remove outliers, i.e., less thatn 1%\n",
    "print('before:', df.shape[0])\n",
    "df = df[df.capital_gain<20000]\n",
    "print('after :', df.shape[0])"
   ]
  },
  {
   "cell_type": "code",
   "execution_count": 55,
   "id": "a3e5ed9f",
   "metadata": {},
   "outputs": [
    {
     "name": "stderr",
     "output_type": "stream",
     "text": [
      "/var/folders/gm/77n7bpn55b1bqt9x5438x5h00000gn/T/ipykernel_28794/784624770.py:1: SettingWithCopyWarning: \n",
      "A value is trying to be set on a copy of a slice from a DataFrame.\n",
      "Try using .loc[row_indexer,col_indexer] = value instead\n",
      "\n",
      "See the caveats in the documentation: https://pandas.pydata.org/pandas-docs/stable/user_guide/indexing.html#returning-a-view-versus-a-copy\n",
      "  df['capital_diff'] = (df['capital_gain'] - df['capital_loss'])\n"
     ]
    }
   ],
   "source": [
    "# Instead of removing more outliers from capital loss, do feat eng \n",
    "df['capital_diff'] = (df['capital_gain'] - df['capital_loss'])"
   ]
  },
  {
   "cell_type": "code",
   "execution_count": 28,
   "id": "fa41289d",
   "metadata": {},
   "outputs": [],
   "source": [
    "from sklearn.preprocessing import RobustScaler, MinMaxScaler\n",
    "from sklearn.preprocessing import StandardScaler\n",
    "from sklearn.model_selection import train_test_split\n",
    "from sklearn.preprocessing import PowerTransformer"
   ]
  },
  {
   "cell_type": "code",
   "execution_count": 29,
   "id": "fa2647d8",
   "metadata": {},
   "outputs": [],
   "source": [
    "y = df[target]\n",
    "X = df.drop(columns=[target])"
   ]
  },
  {
   "cell_type": "code",
   "execution_count": 30,
   "id": "4975dbb8",
   "metadata": {},
   "outputs": [],
   "source": [
    "X_train, X_test, y_train, y_test = train_test_split(X, y, test_size = 0.1, random_state = 42)"
   ]
  },
  {
   "cell_type": "code",
   "execution_count": 63,
   "id": "ec98295f",
   "metadata": {},
   "outputs": [],
   "source": [
    "def create_capital_diff(df):\n",
    "    df['capital_diff'] = df['capital_gain'] - df['capital_loss']\n",
    "    return df\n",
    "\n",
    "X_train = create_capital_diff(X_train)\n",
    "X_test = create_capital_diff(X_test)"
   ]
  },
  {
   "cell_type": "code",
   "execution_count": 64,
   "id": "8a1f7fba",
   "metadata": {
    "scrolled": true
   },
   "outputs": [
    {
     "data": {
      "image/png": "[encoded data removed]",
      "text/plain": [
       "<Figure size 900x600 with 6 Axes>"
      ]
     },
     "metadata": {},
     "output_type": "display_data"
    }
   ],
   "source": [
    "# Consider transformations\n",
    "\n",
    "numerical_features = ['age','fnlgt','education_num','capital_diff','hours_per_week']\n",
    "\n",
    "fig, axes = plt.subplots(2,3, figsize=(9,6))\n",
    "for i,cat in enumerate(numerical_features):\n",
    "    method = 'box-cox' if cat!='capital_diff' else 'yeo-johnson'\n",
    "    pt = PowerTransformer(method=method)\n",
    "    pt.fit(X_train[[cat]].values)\n",
    "    axes.flatten()[i].hist(pt.transform(X_train[[cat]].values), density=True)\n",
    "    axes.flatten()[i].set_title(cat)\n",
    "plt.tight_layout()"
   ]
  },
  {
   "cell_type": "code",
   "execution_count": 292,
   "id": "fecf2254",
   "metadata": {},
   "outputs": [
    {
     "data": {
      "text/html": [
       "<div>\n",
       "<style scoped>\n",
       "    .dataframe tbody tr th:only-of-type {\n",
       "        vertical-align: middle;\n",
       "    }\n",
       "\n",
       "    .dataframe tbody tr th {\n",
       "        vertical-align: top;\n",
       "    }\n",
       "\n",
       "    .dataframe thead th {\n",
       "        text-align: right;\n",
       "    }\n",
       "</style>\n",
       "<table border=\"1\" class=\"dataframe\">\n",
       "  <thead>\n",
       "    <tr style=\"text-align: right;\">\n",
       "      <th></th>\n",
       "      <th>education_num</th>\n",
       "      <th>education</th>\n",
       "    </tr>\n",
       "  </thead>\n",
       "  <tbody>\n",
       "    <tr>\n",
       "      <th>16807</th>\n",
       "      <td>10</td>\n",
       "      <td>Some-college</td>\n",
       "    </tr>\n",
       "    <tr>\n",
       "      <th>20489</th>\n",
       "      <td>11</td>\n",
       "      <td>Assoc-voc</td>\n",
       "    </tr>\n",
       "    <tr>\n",
       "      <th>16507</th>\n",
       "      <td>9</td>\n",
       "      <td>HS-grad</td>\n",
       "    </tr>\n",
       "    <tr>\n",
       "      <th>24274</th>\n",
       "      <td>9</td>\n",
       "      <td>HS-grad</td>\n",
       "    </tr>\n",
       "    <tr>\n",
       "      <th>26682</th>\n",
       "      <td>9</td>\n",
       "      <td>HS-grad</td>\n",
       "    </tr>\n",
       "    <tr>\n",
       "      <th>6459</th>\n",
       "      <td>8</td>\n",
       "      <td>12th</td>\n",
       "    </tr>\n",
       "  </tbody>\n",
       "</table>\n",
       "</div>"
      ],
      "text/plain": [
       "       education_num     education\n",
       "16807             10  Some-college\n",
       "20489             11     Assoc-voc\n",
       "16507              9       HS-grad\n",
       "24274              9       HS-grad\n",
       "26682              9       HS-grad\n",
       "6459               8          12th"
      ]
     },
     "execution_count": 292,
     "metadata": {},
     "output_type": "execute_result"
    }
   ],
   "source": [
    "df[['education_num','education']].sample(6)"
   ]
  },
  {
   "cell_type": "code",
   "execution_count": 286,
   "id": "f0762b27",
   "metadata": {},
   "outputs": [],
   "source": [
    "from sklearn.preprocessing import OneHotEncoder, OrdinalEncoder\n",
    "from sklearn.linear_model import LogisticRegression,LogisticRegressionCV\n",
    "from sklearn.compose import ColumnTransformer\n",
    "from imblearn.pipeline import Pipeline as imbPipeline\n",
    "from imblearn.pipeline import make_pipeline as imb_make_pipeline\n",
    "from sklearn.pipeline import Pipeline, make_pipeline\n",
    "from sklearn.impute import SimpleImputer\n",
    "from sklearn.ensemble import RandomForestClassifier\n",
    "from sklearn.metrics import classification_report\n",
    "from sklearn.metrics import accuracy_score, f1_score, precision_score, recall_score\n",
    "from sklearn.model_selection import cross_val_score, KFold, cross_validate\n",
    "from sklearn.metrics import PrecisionRecallDisplay, precision_recall_curve"
   ]
  },
  {
   "cell_type": "code",
   "execution_count": 179,
   "id": "c9b23689",
   "metadata": {},
   "outputs": [],
   "source": [
    "from imblearn.over_sampling import SMOTE, RandomOverSampler\n",
    "from imblearn.combine import SMOTEENN"
   ]
  },
  {
   "cell_type": "code",
   "execution_count": 331,
   "id": "9c6c7b0e",
   "metadata": {},
   "outputs": [],
   "source": [
    "capital_diff_feature = ['capital_diff']\n",
    "numeric_features = ['age','fnlgt','education_num','hours_per_week']\n",
    "categorical_features = ['workclass', 'marital_status', 'occupation', 'relationship',\n",
    "                        'race', 'sex', 'native_country']\n",
    "# categorical_edu = ['education']"
   ]
  },
  {
   "cell_type": "code",
   "execution_count": 353,
   "id": "4d3900d1",
   "metadata": {},
   "outputs": [],
   "source": [
    "## Logistic Regression\n",
    "\n",
    "numeric_transformer_others = make_pipeline(\n",
    "    PowerTransformer(method='box-cox')\n",
    ")\n",
    "numeric_transformer_capital = make_pipeline(\n",
    "    PowerTransformer(method='yeo-johnson')\n",
    ")\n",
    "\n",
    "categorical_transformer = make_pipeline(\n",
    "    OneHotEncoder(drop='first',handle_unknown='ignore')\n",
    ")\n",
    "\n",
    "categorical_transformer_edu = make_pipeline(\n",
    "    OrdinalEncoder()\n",
    ")\n",
    "\n",
    "linear_classifier = LogisticRegression(n_jobs=-1,max_iter=500)\n",
    "\n",
    "preprocessor = ColumnTransformer(\n",
    "    transformers=[\n",
    "        (\"numeric_others\", numeric_transformer_others, numeric_features),\n",
    "        (\"numeric_capital\", numeric_transformer_capital, capital_diff_feature),\n",
    "        (\"categorical\", categorical_transformer, categorical_features),\n",
    "        #(\"categorical_edu\", categorical_transformer_edu, categorical_edu),\n",
    "    ],\n",
    "    remainder=\"passthrough\",  # This drops the columns that we do not transform\n",
    ")\n"
   ]
  },
  {
   "cell_type": "code",
   "execution_count": 354,
   "id": "8d4d741c",
   "metadata": {},
   "outputs": [],
   "source": [
    "train_cols = numeric_features + categorical_features + ['capital_diff']"
   ]
  },
  {
   "cell_type": "code",
   "execution_count": 355,
   "id": "d637ba60",
   "metadata": {
    "scrolled": false
   },
   "outputs": [],
   "source": [
    "pipe_linear = imbPipeline(\n",
    "    steps=[\n",
    "        (\"preprocessor\", preprocessor),\n",
    "        (\"resampler\",  SMOTEENN(n_jobs=-1, random_state=42)),\n",
    "        (\"classifier\", linear_classifier),\n",
    "    ]\n",
    ")\n"
   ]
  },
  {
   "cell_type": "code",
   "execution_count": 356,
   "id": "a80afebe",
   "metadata": {},
   "outputs": [
    {
     "data": {
      "text/plain": [
       "array([0.7647868 , 0.76090246, 0.75402394, 0.75828862])"
      ]
     },
     "execution_count": 356,
     "metadata": {},
     "output_type": "execute_result"
    }
   ],
   "source": [
    "folds = 5\n",
    "cv = KFold(n_splits=(folds - 1))\n",
    "scores = cross_val_score(pipe_linear, X_train[train_cols], y_train, cv = cv,)\n",
    "scores\n"
   ]
  },
  {
   "cell_type": "code",
   "execution_count": 343,
   "id": "b17faec5",
   "metadata": {},
   "outputs": [
    {
     "data": {
      "text/plain": [
       "0.759500455"
      ]
     },
     "execution_count": 343,
     "metadata": {},
     "output_type": "execute_result"
    }
   ],
   "source": [
    "sum([0.7647868 , 0.76090246, 0.75402394, 0.75828862])/4"
   ]
  },
  {
   "cell_type": "code",
   "execution_count": null,
   "id": "a6892e47",
   "metadata": {},
   "outputs": [],
   "source": []
  },
  {
   "cell_type": "code",
   "execution_count": 357,
   "id": "7d5b6e4c",
   "metadata": {},
   "outputs": [],
   "source": [
    "## Random Forest\n",
    "#   dont need to transfom much for trees\n",
    "\n",
    "# numeric_transformer_others = make_pipeline(\n",
    "#     PowerTransformer(method='box-cox')\n",
    "# )\n",
    "# numeric_transformer_capital = make_pipeline(\n",
    "#     PowerTransformer(method='yeo-johnson')\n",
    "# )\n",
    "numeric_transformer = make_pipeline(\n",
    "    SimpleImputer()\n",
    ")\n",
    "categorical_transformer = make_pipeline(\n",
    "    OneHotEncoder(drop='first',handle_unknown='ignore')\n",
    ")\n",
    "\n",
    "# categorical_transformer_edu = make_pipeline(\n",
    "#     OrdinalEncoder()\n",
    "# )\n",
    "\n",
    "tree_classifier = RandomForestClassifier(n_jobs=-1)\n",
    "\n",
    "preprocessor = ColumnTransformer(\n",
    "    transformers=[\n",
    "        #(\"numeric_others\", numeric_transformer_others, numeric_features),\n",
    "        #(\"numeric_capital\", numeric_transformer_capital, capital_diff_feature),\n",
    "        ('numeric', numeric_transformer, numeric_features+capital_diff_feature),\n",
    "        (\"categorical\", categorical_transformer, categorical_features),\n",
    "        #(\"categorical_edu\", categorical_transformer_edu, categorical_edu),\n",
    "    ],\n",
    "    remainder=\"passthrough\",  # This drops the columns that we do not transform\n",
    ")\n"
   ]
  },
  {
   "cell_type": "code",
   "execution_count": 358,
   "id": "b2ca19a2",
   "metadata": {},
   "outputs": [],
   "source": [
    "train_cols = numeric_features + categorical_features + ['capital_diff']"
   ]
  },
  {
   "cell_type": "code",
   "execution_count": 359,
   "id": "1783dd7b",
   "metadata": {
    "scrolled": false
   },
   "outputs": [],
   "source": [
    "pipe_rf = imbPipeline(\n",
    "    steps=[\n",
    "        (\"preprocessor\", preprocessor),\n",
    "        (\"resampler\",  SMOTEENN(n_jobs=-1, random_state=42)),\n",
    "        (\"classifier\", tree_classifier),\n",
    "    ]\n",
    ")"
   ]
  },
  {
   "cell_type": "code",
   "execution_count": 351,
   "id": "96721c70",
   "metadata": {},
   "outputs": [
    {
     "data": {
      "text/plain": [
       "array([0.84484182, 0.85018572, 0.84193149, 0.83918008])"
      ]
     },
     "execution_count": 351,
     "metadata": {},
     "output_type": "execute_result"
    }
   ],
   "source": [
    "folds = 5\n",
    "cv = KFold(n_splits=(folds - 1))\n",
    "scores = cross_val_score(pipe_rf, X_train[train_cols], y_train, cv = cv,)\n",
    "scores\n"
   ]
  },
  {
   "cell_type": "code",
   "execution_count": 352,
   "id": "2f0992db",
   "metadata": {},
   "outputs": [
    {
     "data": {
      "text/plain": [
       "0.8440347774999999"
      ]
     },
     "execution_count": 352,
     "metadata": {},
     "output_type": "execute_result"
    }
   ],
   "source": [
    "sum([0.84484182, 0.85018572, 0.84193149, 0.83918008])/4"
   ]
  },
  {
   "cell_type": "code",
   "execution_count": null,
   "id": "7858b0a7",
   "metadata": {},
   "outputs": [],
   "source": []
  },
  {
   "cell_type": "code",
   "execution_count": 360,
   "id": "9e0949bc",
   "metadata": {},
   "outputs": [],
   "source": [
    "### Pick Random Forest\n",
    "pipe_rf = imbPipeline(\n",
    "    steps=[\n",
    "        (\"preprocessor\", preprocessor),\n",
    "        (\"resampler\",  SMOTEENN(n_jobs=-1, random_state=42)),\n",
    "        (\"classifier\", tree_classifier),\n",
    "    ]\n",
    ")"
   ]
  },
  {
   "cell_type": "code",
   "execution_count": 362,
   "id": "03e47350",
   "metadata": {},
   "outputs": [],
   "source": [
    "pipe_rf.fit(X_train[train_cols], y_train)\n",
    "y_pred = pipe_rf.predict(X_test)"
   ]
  },
  {
   "cell_type": "code",
   "execution_count": 363,
   "id": "2a744839",
   "metadata": {},
   "outputs": [
    {
     "name": "stdout",
     "output_type": "stream",
     "text": [
      "              precision    recall  f1-score   support\n",
      "\n",
      "       <=50K       0.90      0.89      0.89      2459\n",
      "        >50K       0.65      0.67      0.66       772\n",
      "\n",
      "    accuracy                           0.83      3231\n",
      "   macro avg       0.77      0.78      0.78      3231\n",
      "weighted avg       0.84      0.83      0.84      3231\n",
      "\n",
      "recall   : 0.6722797927461139\n",
      "precision: 0.64875\n",
      "accuracy : 0.8347260909935005\n",
      "f1-score : 0.6603053435114504\n"
     ]
    }
   ],
   "source": [
    "print(classification_report(y_test, y_pred))\n",
    "print('recall   :',recall_score(y_test, y_pred, pos_label='>50K'))\n",
    "print('precision:',precision_score(y_test, y_pred, pos_label='>50K'))\n",
    "print('accuracy :',accuracy_score(y_test, y_pred))\n",
    "print('f1-score :',f1_score(y_test, y_pred, pos_label='>50K'))"
   ]
  },
  {
   "cell_type": "code",
   "execution_count": 364,
   "id": "c9217cfe",
   "metadata": {},
   "outputs": [
    {
     "data": {
      "image/png": "[encoded data removed]",
      "text/plain": [
       "<Figure size 640x480 with 1 Axes>"
      ]
     },
     "metadata": {},
     "output_type": "display_data"
    }
   ],
   "source": [
    "y_test_enc = y_test.replace({'<=50K':0,'>50K':1})\n",
    "y_pred_enc = pd.Series(y_pred).replace({'<=50K':0,'>50K':1})\n",
    "PrecisionRecallDisplay.from_predictions(y_test_enc, y_pred_enc, pos_label=1);"
   ]
  },
  {
   "cell_type": "code",
   "execution_count": null,
   "id": "b3c96e4f",
   "metadata": {},
   "outputs": [],
   "source": []
  }
 ],
 "metadata": {
  "kernelspec": {
   "display_name": "Python 3 (ipykernel)",
   "language": "python",
   "name": "python3"
  },
  "language_info": {
   "codemirror_mode": {
    "name": "ipython",
    "version": 3
   },
   "file_extension": ".py",
   "mimetype": "text/x-python",
   "name": "python",
   "nbconvert_exporter": "python",
   "pygments_lexer": "ipython3",
   "version": "3.8.13"
  }
 },
 "nbformat": 4,
 "nbformat_minor": 5
}
